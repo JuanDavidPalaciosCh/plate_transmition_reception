{
 "cells": [
  {
   "cell_type": "code",
   "execution_count": 1,
   "id": "55be4c02",
   "metadata": {},
   "outputs": [
    {
     "name": "stderr",
     "output_type": "stream",
     "text": [
      "/home/jpalaciosch/Documents/UNAL/Septimo semestre/Comunicaciones/Proyecto final/venv/lib64/python3.13/site-packages/tqdm/auto.py:21: TqdmWarning: IProgress not found. Please update jupyter and ipywidgets. See https://ipywidgets.readthedocs.io/en/stable/user_install.html\n",
      "  from .autonotebook import tqdm as notebook_tqdm\n"
     ]
    }
   ],
   "source": [
    "import cv2, numpy as np, pandas as pd\n",
    "from pathlib import Path\n",
    "from tqdm.auto import tqdm\n",
    "\n",
    "\n",
    "ORIG_DIR = Path(\"./dataset/autos\")        # donde están auto001.jpeg, ...\n",
    "PROC_DIR = Path(\"./dataset/autos_proc\")   # guardaremos las imágenes B/N\n",
    "BITS_DIR = Path(\"./dataset/autos_bits\")   # guardaremos .npy con los bits\n",
    "PROC_DIR.mkdir(parents=True, exist_ok=True)\n",
    "BITS_DIR.mkdir(parents=True, exist_ok=True)"
   ]
  }
 ],
 "metadata": {
  "kernelspec": {
   "display_name": "venv",
   "language": "python",
   "name": "python3"
  },
  "language_info": {
   "codemirror_mode": {
    "name": "ipython",
    "version": 3
   },
   "file_extension": ".py",
   "mimetype": "text/x-python",
   "name": "python",
   "nbconvert_exporter": "python",
   "pygments_lexer": "ipython3",
   "version": "3.13.3"
  }
 },
 "nbformat": 4,
 "nbformat_minor": 5
}
