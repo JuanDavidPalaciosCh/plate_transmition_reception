{
 "cells": [
  {
   "cell_type": "code",
   "execution_count": 1,
   "id": "068708eb",
   "metadata": {},
   "outputs": [
    {
     "data": {
      "text/plain": [
       "235"
      ]
     },
     "execution_count": 1,
     "metadata": {},
     "output_type": "execute_result"
    }
   ],
   "source": [
    "import cv2\n",
    "import pytesseract\n",
    "\n",
    "placa = []\n",
    "\n",
    "image = cv2.imread('Auto001.jpg')\n",
    "gray = cv2.cvtColor(image, cv2.COLOR_BGR2GRAY)\n",
    "gray = cv2.blur(gray,(3,3))\n",
    "canny = cv2.Canny(gray,150,200)\n",
    "canny = cv2.dilate(canny,None,iterations=1)\n",
    "\n",
    "#_,cnts,_ = cv2.findContours(canny,cv2.RETR_LIST,cv2.CHAIN_APPROX_SIMPLE)\n",
    "cnts,_ = cv2.findContours(canny,cv2.RETR_LIST,cv2.CHAIN_APPROX_SIMPLE)\n",
    "#cv2.drawContours(image,cnts,-1,(0,255,0),2)\n",
    "\n",
    "for c in cnts:\n",
    "  area = cv2.contourArea(c)\n",
    "\n",
    "  x,y,w,h = cv2.boundingRect(c)\n",
    "  epsilon = 0.09*cv2.arcLength(c,True)\n",
    "  approx = cv2.approxPolyDP(c,epsilon,True)\n",
    "  \n",
    "  if len(approx)==4 and area>9000:\n",
    "    print('area=',area)\n",
    "    #cv2.drawContours(image,[approx],0,(0,255,0),3)\n",
    "\n",
    "    aspect_ratio = float(w)/h\n",
    "    if aspect_ratio>2.4:\n",
    "      placa = gray[y:y+h,x:x+w]\n",
    "      text = pytesseract.image_to_string(placa,config='--psm 11')\n",
    "      print('PLACA: ',text)\n",
    "\n",
    "      cv2.imshow('PLACA',placa)\n",
    "      cv2.moveWindow('PLACA',780,10)\n",
    "      cv2.rectangle(image,(x,y),(x+w,y+h),(0,255,0),3)\n",
    "      cv2.putText(image,text,(x-20,y-10),1,2.2,(0,255,0),3)\n",
    "      \n",
    "cv2.imshow('Image',image)\n",
    "cv2.moveWindow('Image',45,10)\n",
    "cv2.waitKey(0)"
   ]
  },
  {
   "cell_type": "code",
   "execution_count": null,
   "id": "24bdcc97",
   "metadata": {},
   "outputs": [],
   "source": [
    "import cv2\n",
    "\n",
    "# Cargar imagen\n",
    "img = cv2.imread('Auto001.jpg')\n",
    "\n",
    "# Recortar placa manual o con algún detector (por ahora asumimos recorte ya hecho)\n",
    "placa = img  # Ajusta las coordenadas según tu imagen\n",
    "\n",
    "# Escala de grises\n",
    "gray = cv2.cvtColor(placa, cv2.COLOR_BGR2GRAY)\n",
    "\n",
    "_, binaria = cv2.threshold(gray, 130, 255, cv2.THRESH_BINARY_INV)\n",
    "\n",
    "# Mostrar resultado\n",
    "cv2.imshow(\"Placa binarizada\", binaria)\n",
    "cv2.waitKey(0)\n"
   ]
  },
  {
   "cell_type": "code",
   "execution_count": null,
   "id": "8246a820",
   "metadata": {},
   "outputs": [],
   "source": []
  }
 ],
 "metadata": {
  "kernelspec": {
   "display_name": "venv",
   "language": "python",
   "name": "python3"
  },
  "language_info": {
   "codemirror_mode": {
    "name": "ipython",
    "version": 3
   },
   "file_extension": ".py",
   "mimetype": "text/x-python",
   "name": "python",
   "nbconvert_exporter": "python",
   "pygments_lexer": "ipython3",
   "version": "3.13.3"
  }
 },
 "nbformat": 4,
 "nbformat_minor": 5
}
